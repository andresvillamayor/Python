{
  "nbformat": 4,
  "nbformat_minor": 0,
  "metadata": {
    "colab": {
      "provenance": [],
      "authorship_tag": "ABX9TyPnjrx+sdRcFVe3kQz70te7",
      "include_colab_link": true
    },
    "kernelspec": {
      "name": "python3",
      "display_name": "Python 3"
    },
    "language_info": {
      "name": "python"
    }
  },
  "cells": [
    {
      "cell_type": "markdown",
      "metadata": {
        "id": "view-in-github",
        "colab_type": "text"
      },
      "source": [
        "<a href=\"https://colab.research.google.com/github/andresvillamayor/Python/blob/main/Clase2.ipynb\" target=\"_parent\"><img src=\"https://colab.research.google.com/assets/colab-badge.svg\" alt=\"Open In Colab\"/></a>"
      ]
    },
    {
      "cell_type": "markdown",
      "source": [
        "**Trabajando con Variables**\n",
        "\n",
        "- Aritmética"
      ],
      "metadata": {
        "id": "GLxtpRiJMTAM"
      }
    },
    {
      "cell_type": "code",
      "source": [
        "A = 10"
      ],
      "metadata": {
        "id": "ylaNz-5LMp1f"
      },
      "execution_count": null,
      "outputs": []
    },
    {
      "cell_type": "code",
      "source": [
        "B = 15"
      ],
      "metadata": {
        "id": "GsDTgrNVM5q4"
      },
      "execution_count": null,
      "outputs": []
    },
    {
      "cell_type": "code",
      "source": [
        "# Suma Aritmética\n",
        "C = A + B"
      ],
      "metadata": {
        "id": "Pm_pzu3JM8ld"
      },
      "execution_count": null,
      "outputs": []
    },
    {
      "cell_type": "code",
      "source": [
        "# Resultado de C\n",
        "C"
      ],
      "metadata": {
        "colab": {
          "base_uri": "https://localhost:8080/"
        },
        "id": "QIf4vydgNDtF",
        "outputId": "c13d383a-34c4-4d7b-b0d4-998a61b891a7"
      },
      "execution_count": null,
      "outputs": [
        {
          "output_type": "execute_result",
          "data": {
            "text/plain": [
              "25"
            ]
          },
          "metadata": {},
          "execution_count": 4
        }
      ]
    },
    {
      "cell_type": "code",
      "source": [
        "# Tipo de Dato de C\n",
        "type(C)"
      ],
      "metadata": {
        "colab": {
          "base_uri": "https://localhost:8080/"
        },
        "id": "g6DxzVFaNIMD",
        "outputId": "d22b630f-1650-49fb-8160-cc6d8e6eb82a"
      },
      "execution_count": null,
      "outputs": [
        {
          "output_type": "execute_result",
          "data": {
            "text/plain": [
              "int"
            ]
          },
          "metadata": {},
          "execution_count": 5
        }
      ]
    },
    {
      "cell_type": "code",
      "source": [
        "# Si queremos hacer una division\n",
        "D = B/A\n",
        "D"
      ],
      "metadata": {
        "colab": {
          "base_uri": "https://localhost:8080/"
        },
        "id": "cATOCC3oNmqZ",
        "outputId": "72c3cc39-f1f4-46c4-8fe6-80781330e107"
      },
      "execution_count": null,
      "outputs": [
        {
          "output_type": "execute_result",
          "data": {
            "text/plain": [
              "1.5"
            ]
          },
          "metadata": {},
          "execution_count": 7
        }
      ]
    },
    {
      "cell_type": "code",
      "source": [
        "type(D)"
      ],
      "metadata": {
        "colab": {
          "base_uri": "https://localhost:8080/"
        },
        "id": "t4MWJmj0NwoO",
        "outputId": "dabb9b62-c9f5-430a-b412-015ef3b93f4e"
      },
      "execution_count": null,
      "outputs": [
        {
          "output_type": "execute_result",
          "data": {
            "text/plain": [
              "float"
            ]
          },
          "metadata": {},
          "execution_count": 8
        }
      ]
    },
    {
      "cell_type": "markdown",
      "source": [
        "Formas de Impresion"
      ],
      "metadata": {
        "id": "hEq6lqGDN1TW"
      }
    },
    {
      "cell_type": "code",
      "source": [
        "# hasta ahora como estamos trabajando en notebook podemos impimir colocando el nombre de la variable\n",
        "# correctamente para imprimir se debe usar el metodo print()"
      ],
      "metadata": {
        "id": "_iWUCEfmN5BB"
      },
      "execution_count": null,
      "outputs": []
    },
    {
      "cell_type": "code",
      "source": [
        "# Otener los mismos valores de C y D\n",
        "print(C)"
      ],
      "metadata": {
        "colab": {
          "base_uri": "https://localhost:8080/"
        },
        "id": "LyVsFqr7Oerz",
        "outputId": "63bcfaec-026b-4592-bd24-5f87e7517784"
      },
      "execution_count": null,
      "outputs": [
        {
          "output_type": "stream",
          "name": "stdout",
          "text": [
            "25\n"
          ]
        }
      ]
    },
    {
      "cell_type": "code",
      "source": [
        "print(D)"
      ],
      "metadata": {
        "colab": {
          "base_uri": "https://localhost:8080/"
        },
        "id": "VwCtviS1OnRn",
        "outputId": "4420c081-4c3d-456f-8615-b95111a762e7"
      },
      "execution_count": null,
      "outputs": [
        {
          "output_type": "stream",
          "name": "stdout",
          "text": [
            "1.5\n"
          ]
        }
      ]
    },
    {
      "cell_type": "code",
      "source": [
        "# Si colocamos para imprimir ambas variables ( Se imprime la última variable)\n",
        "C\n",
        "D"
      ],
      "metadata": {
        "colab": {
          "base_uri": "https://localhost:8080/"
        },
        "id": "CRpHQ0J3RdTh",
        "outputId": "49f3fa8c-ef1d-43b4-9ae9-e094625e14d3"
      },
      "execution_count": null,
      "outputs": [
        {
          "output_type": "execute_result",
          "data": {
            "text/plain": [
              "1.5"
            ]
          },
          "metadata": {},
          "execution_count": 11
        }
      ]
    },
    {
      "cell_type": "code",
      "source": [
        "# Si imprimimos con la funcion print(), usando la funcion print() para ambas varibles se imprimiran las dos\n",
        "print(C)\n",
        "print(D)"
      ],
      "metadata": {
        "colab": {
          "base_uri": "https://localhost:8080/"
        },
        "id": "k-V9JLX9RsSO",
        "outputId": "f9ad87de-6083-4cda-a381-13b3a35fe381"
      },
      "execution_count": null,
      "outputs": [
        {
          "output_type": "stream",
          "name": "stdout",
          "text": [
            "25\n",
            "1.5\n"
          ]
        }
      ]
    },
    {
      "cell_type": "markdown",
      "source": [
        "**Usando Raiz Cuadrada**"
      ],
      "metadata": {
        "id": "mM5FJzXKZcII"
      }
    },
    {
      "cell_type": "code",
      "source": [
        "import math"
      ],
      "metadata": {
        "id": "jNIW3g94ZaGV"
      },
      "execution_count": 1,
      "outputs": []
    },
    {
      "cell_type": "code",
      "source": [
        "# Usando la libreria math vemos como usar la raiz cuadrada\n",
        "math.sqrt(144)  # Aca estamos viendo sacar la raiz cuadrada del numero 144 ( el valor seria 12)"
      ],
      "metadata": {
        "id": "qMIphDjfZsrD",
        "outputId": "d7fd470b-c0db-4f9a-81ac-b67d3ff59939",
        "colab": {
          "base_uri": "https://localhost:8080/"
        }
      },
      "execution_count": 2,
      "outputs": [
        {
          "output_type": "execute_result",
          "data": {
            "text/plain": [
              "12.0"
            ]
          },
          "metadata": {},
          "execution_count": 2
        }
      ]
    },
    {
      "cell_type": "code",
      "source": [
        "# Usando el mismo esquema podemos asignar un valor a un variable\n",
        "valor = 100\n",
        "math.sqrt(valor) # tendriamos el valor de 10"
      ],
      "metadata": {
        "id": "852c5pggaJ79",
        "outputId": "a2ee8c0d-f869-4aa2-aa18-099d94e887c6",
        "colab": {
          "base_uri": "https://localhost:8080/"
        }
      },
      "execution_count": 3,
      "outputs": [
        {
          "output_type": "execute_result",
          "data": {
            "text/plain": [
              "10.0"
            ]
          },
          "metadata": {},
          "execution_count": 3
        }
      ]
    },
    {
      "cell_type": "code",
      "source": [
        "# Usemos lo mismo pero con otros valores\n",
        "X = 15\n",
        "math.sqrt(X) # Aca los valores no dio en decimales"
      ],
      "metadata": {
        "id": "AshTN_8rabp0",
        "outputId": "750195be-0fd8-4bc4-e705-4dac9ca80024",
        "colab": {
          "base_uri": "https://localhost:8080/"
        }
      },
      "execution_count": 4,
      "outputs": [
        {
          "output_type": "execute_result",
          "data": {
            "text/plain": [
              "3.872983346207417"
            ]
          },
          "metadata": {},
          "execution_count": 4
        }
      ]
    },
    {
      "cell_type": "code",
      "source": [
        "# hagamos un redondeo usando round()\n",
        "# hagamos que una funcion este dentro de otra funcion\n",
        "round(math.sqrt(X)) # como se ve aca hay un redondeo hacia arriba , anteriormente nos dio 3.87"
      ],
      "metadata": {
        "id": "pZBtFZrFa8x5",
        "outputId": "e42e06d4-32dc-41a0-a75b-4d1d64e53f5f",
        "colab": {
          "base_uri": "https://localhost:8080/"
        }
      },
      "execution_count": 5,
      "outputs": [
        {
          "output_type": "execute_result",
          "data": {
            "text/plain": [
              "4"
            ]
          },
          "metadata": {},
          "execution_count": 5
        }
      ]
    },
    {
      "cell_type": "markdown",
      "source": [
        "---\n",
        "**Trabajando un poco son datos de tipo String**"
      ],
      "metadata": {
        "id": "hV06umnbbutu"
      }
    },
    {
      "cell_type": "code",
      "source": [
        "# Vamos a crear un mensaje de saludo\n",
        "saludo = 'Hola' # esta es un variable string porque recibe un valor string\n",
        "nombre = 'Pepe' # esta es otra variable string\n",
        "# podemos unir esta variable haciendo una suma\n",
        "mensaje = saludo + nombre  # aca se juntan las dos variables string\n",
        "mensaje  #vemos el resultado"
      ],
      "metadata": {
        "id": "o1PXLTYSb0eK",
        "outputId": "dc2fe6b3-de1b-48f7-e56d-5188942094d9",
        "colab": {
          "base_uri": "https://localhost:8080/",
          "height": 35
        }
      },
      "execution_count": 6,
      "outputs": [
        {
          "output_type": "execute_result",
          "data": {
            "text/plain": [
              "'HolaPepe'"
            ],
            "application/vnd.google.colaboratory.intrinsic+json": {
              "type": "string"
            }
          },
          "metadata": {},
          "execution_count": 6
        }
      ]
    },
    {
      "cell_type": "code",
      "source": [
        "# Si vieron bien, la celda anterior el valor que imprimo es HolaPepe todo junto\n",
        "# si queremos separa para que se vea mejor\n",
        "mensaje = saludo + ' ' + nombre  # aca agregamos un espacio en blanco + ' '+\n",
        "mensaje"
      ],
      "metadata": {
        "id": "tjtekConce6v",
        "outputId": "e29cb390-ad5d-4456-9c59-e749ba1a4464",
        "colab": {
          "base_uri": "https://localhost:8080/",
          "height": 35
        }
      },
      "execution_count": 7,
      "outputs": [
        {
          "output_type": "execute_result",
          "data": {
            "text/plain": [
              "'Hola Pepe'"
            ],
            "application/vnd.google.colaboratory.intrinsic+json": {
              "type": "string"
            }
          },
          "metadata": {},
          "execution_count": 7
        }
      ]
    }
  ]
}