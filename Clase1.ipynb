{
  "nbformat": 4,
  "nbformat_minor": 0,
  "metadata": {
    "colab": {
      "provenance": [],
      "authorship_tag": "ABX9TyM+XhSCROWDxxEKfJwF2L36",
      "include_colab_link": true
    },
    "kernelspec": {
      "name": "python3",
      "display_name": "Python 3"
    },
    "language_info": {
      "name": "python"
    }
  },
  "cells": [
    {
      "cell_type": "markdown",
      "metadata": {
        "id": "view-in-github",
        "colab_type": "text"
      },
      "source": [
        "<a href=\"https://colab.research.google.com/github/andresvillamayor/Python/blob/main/Clase1.ipynb\" target=\"_parent\"><img src=\"https://colab.research.google.com/assets/colab-badge.svg\" alt=\"Open In Colab\"/></a>"
      ]
    },
    {
      "cell_type": "markdown",
      "source": [
        "Tipo de Variables en Python para Data Science"
      ],
      "metadata": {
        "id": "hqOnq2qLCaml"
      }
    },
    {
      "cell_type": "code",
      "execution_count": 1,
      "metadata": {
        "id": "1wZvv8FICLWu"
      },
      "outputs": [],
      "source": [
        "# tipo de variables para python\n",
        "# creando una variable Integer\n",
        "x =  2"
      ]
    },
    {
      "cell_type": "code",
      "source": [
        "# vemos el valor de x"
      ],
      "metadata": {
        "id": "aCmBfHq5C8E-"
      },
      "execution_count": null,
      "outputs": []
    },
    {
      "cell_type": "code",
      "source": [],
      "metadata": {
        "id": "9OGnIIGnC7Zl"
      },
      "execution_count": null,
      "outputs": []
    }
  ]
}