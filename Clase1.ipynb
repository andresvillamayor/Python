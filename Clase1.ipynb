{
  "nbformat": 4,
  "nbformat_minor": 0,
  "metadata": {
    "colab": {
      "provenance": [],
      "authorship_tag": "ABX9TyNc2gjO83PvGnkoEZ/rHzJp",
      "include_colab_link": true
    },
    "kernelspec": {
      "name": "python3",
      "display_name": "Python 3"
    },
    "language_info": {
      "name": "python"
    }
  },
  "cells": [
    {
      "cell_type": "markdown",
      "metadata": {
        "id": "view-in-github",
        "colab_type": "text"
      },
      "source": [
        "<a href=\"https://colab.research.google.com/github/andresvillamayor/Python/blob/main/Clase1.ipynb\" target=\"_parent\"><img src=\"https://colab.research.google.com/assets/colab-badge.svg\" alt=\"Open In Colab\"/></a>"
      ]
    },
    {
      "cell_type": "markdown",
      "source": [
        "**Tipo de Variables en Python para Data Science**\n",
        "- Integer\n",
        "- Float\n",
        "- String\n",
        "- Boolean\n"
      ],
      "metadata": {
        "id": "hqOnq2qLCaml"
      }
    },
    {
      "cell_type": "code",
      "execution_count": null,
      "metadata": {
        "id": "1wZvv8FICLWu"
      },
      "outputs": [],
      "source": [
        "# tipo de variables para python\n",
        "# creando una variable Integer\n",
        "x =  2"
      ]
    },
    {
      "cell_type": "code",
      "source": [
        "# vemos el valor de x\n",
        "x"
      ],
      "metadata": {
        "id": "aCmBfHq5C8E-",
        "outputId": "369f3a5a-5710-45fd-a7ff-b1e966802d3e",
        "colab": {
          "base_uri": "https://localhost:8080/"
        }
      },
      "execution_count": null,
      "outputs": [
        {
          "output_type": "execute_result",
          "data": {
            "text/plain": [
              "2"
            ]
          },
          "metadata": {},
          "execution_count": 4
        }
      ]
    },
    {
      "cell_type": "code",
      "source": [
        "# como saber el tipo de datos de la variable x\n",
        "type(x)"
      ],
      "metadata": {
        "id": "9OGnIIGnC7Zl",
        "outputId": "dbb3250b-0f86-45e5-b089-ef5608a6546e",
        "colab": {
          "base_uri": "https://localhost:8080/"
        }
      },
      "execution_count": null,
      "outputs": [
        {
          "output_type": "execute_result",
          "data": {
            "text/plain": [
              "int"
            ]
          },
          "metadata": {},
          "execution_count": 5
        }
      ]
    },
    {
      "cell_type": "code",
      "source": [
        "# tipo de variable Float / Punto Decimal\n",
        "y = 2.5"
      ],
      "metadata": {
        "id": "0ZdQW77lDpM3"
      },
      "execution_count": null,
      "outputs": []
    },
    {
      "cell_type": "code",
      "source": [
        "# vemos el valor de y\n",
        "y"
      ],
      "metadata": {
        "id": "Cf2jPdHTD19A",
        "outputId": "0b737ca5-0eb9-4d78-adb2-ee9c0bcae1e4",
        "colab": {
          "base_uri": "https://localhost:8080/"
        }
      },
      "execution_count": null,
      "outputs": [
        {
          "output_type": "execute_result",
          "data": {
            "text/plain": [
              "2.5"
            ]
          },
          "metadata": {},
          "execution_count": 7
        }
      ]
    },
    {
      "cell_type": "code",
      "source": [
        "# como saber el tipo de datos de las variable y con la funcion type()\n",
        "type(y)"
      ],
      "metadata": {
        "id": "yDtFRUW6D43A",
        "outputId": "a0795306-8034-411a-df3c-a5a377346ec5",
        "colab": {
          "base_uri": "https://localhost:8080/"
        }
      },
      "execution_count": null,
      "outputs": [
        {
          "output_type": "execute_result",
          "data": {
            "text/plain": [
              "float"
            ]
          },
          "metadata": {},
          "execution_count": 8
        }
      ]
    },
    {
      "cell_type": "markdown",
      "source": [
        "- A modo explicativo en python no importa el uso de doble comillas \" o comilla simple"
      ],
      "metadata": {
        "id": "n1uImvfsJquA"
      }
    },
    {
      "cell_type": "code",
      "source": [
        "# tipo de variable Sting / Cadena de Texto /str\n",
        "# uso de comilla simple\n",
        "a = 'hola'"
      ],
      "metadata": {
        "id": "B9gYceCFEOaK"
      },
      "execution_count": null,
      "outputs": []
    },
    {
      "cell_type": "code",
      "source": [
        "a"
      ],
      "metadata": {
        "id": "b9ONrQmfID8D",
        "outputId": "7f3b7b14-d5c7-4bf9-bea4-900df2b1cc67",
        "colab": {
          "base_uri": "https://localhost:8080/",
          "height": 35
        }
      },
      "execution_count": null,
      "outputs": [
        {
          "output_type": "execute_result",
          "data": {
            "text/plain": [
              "'hola'"
            ],
            "application/vnd.google.colaboratory.intrinsic+json": {
              "type": "string"
            }
          },
          "metadata": {},
          "execution_count": 10
        }
      ]
    },
    {
      "cell_type": "code",
      "source": [
        "type(a)"
      ],
      "metadata": {
        "id": "gsD81d2yIGW-",
        "outputId": "8a956440-b5ba-430a-8d25-67a8de92d94f",
        "colab": {
          "base_uri": "https://localhost:8080/"
        }
      },
      "execution_count": null,
      "outputs": [
        {
          "output_type": "execute_result",
          "data": {
            "text/plain": [
              "str"
            ]
          },
          "metadata": {},
          "execution_count": 11
        }
      ]
    },
    {
      "cell_type": "code",
      "source": [
        "# tipo de variable Sting / Cadena de Texto /str\n",
        "# uso de comilla doble"
      ],
      "metadata": {
        "id": "iY5VasSDJ1Pj"
      },
      "execution_count": null,
      "outputs": []
    },
    {
      "cell_type": "code",
      "source": [
        "b = \"hola\"\n",
        "b"
      ],
      "metadata": {
        "id": "OzPknEehJ_nh",
        "outputId": "0e6e9131-4cfd-42c6-dca9-6ece5770e116",
        "colab": {
          "base_uri": "https://localhost:8080/",
          "height": 35
        }
      },
      "execution_count": 12,
      "outputs": [
        {
          "output_type": "execute_result",
          "data": {
            "text/plain": [
              "'hola'"
            ],
            "application/vnd.google.colaboratory.intrinsic+json": {
              "type": "string"
            }
          },
          "metadata": {},
          "execution_count": 12
        }
      ]
    },
    {
      "cell_type": "code",
      "source": [
        "type(b)"
      ],
      "metadata": {
        "id": "gu_QZcxyKGBH",
        "outputId": "76168305-42fc-45bb-dc4e-131ee0781591",
        "colab": {
          "base_uri": "https://localhost:8080/"
        }
      },
      "execution_count": 13,
      "outputs": [
        {
          "output_type": "execute_result",
          "data": {
            "text/plain": [
              "str"
            ]
          },
          "metadata": {},
          "execution_count": 13
        }
      ]
    },
    {
      "cell_type": "code",
      "source": [
        "# tipo de variables boolean / lógica\n",
        "# pueden tener solo dos valores ( True / False)\n",
        "valorTrue = True\n",
        "valorTrue"
      ],
      "metadata": {
        "id": "Oy3AoKtsKkSF",
        "outputId": "5be40de2-9642-47d6-d72e-d1f22ad02f27",
        "colab": {
          "base_uri": "https://localhost:8080/"
        }
      },
      "execution_count": 14,
      "outputs": [
        {
          "output_type": "execute_result",
          "data": {
            "text/plain": [
              "True"
            ]
          },
          "metadata": {},
          "execution_count": 14
        }
      ]
    },
    {
      "cell_type": "code",
      "source": [
        "type(valorTrue)"
      ],
      "metadata": {
        "id": "06wBXNC3LDWM",
        "outputId": "a0c5b6f5-cdab-4122-80c0-b3a09c0a2bf1",
        "colab": {
          "base_uri": "https://localhost:8080/"
        }
      },
      "execution_count": 15,
      "outputs": [
        {
          "output_type": "execute_result",
          "data": {
            "text/plain": [
              "bool"
            ]
          },
          "metadata": {},
          "execution_count": 15
        }
      ]
    },
    {
      "cell_type": "code",
      "source": [
        "valorFalse=False\n",
        "valorFalse"
      ],
      "metadata": {
        "id": "D988EBIcLQWT",
        "outputId": "7471afa3-bed1-4e9d-d5d1-5ba8cf8bfb7c",
        "colab": {
          "base_uri": "https://localhost:8080/"
        }
      },
      "execution_count": 16,
      "outputs": [
        {
          "output_type": "execute_result",
          "data": {
            "text/plain": [
              "False"
            ]
          },
          "metadata": {},
          "execution_count": 16
        }
      ]
    },
    {
      "cell_type": "code",
      "source": [
        "type(valorFalse)"
      ],
      "metadata": {
        "id": "ZTmd90jmLU-w",
        "outputId": "a6df221c-a690-4041-a459-aae980a3df5c",
        "colab": {
          "base_uri": "https://localhost:8080/"
        }
      },
      "execution_count": 17,
      "outputs": [
        {
          "output_type": "execute_result",
          "data": {
            "text/plain": [
              "bool"
            ]
          },
          "metadata": {},
          "execution_count": 17
        }
      ]
    }
  ]
}