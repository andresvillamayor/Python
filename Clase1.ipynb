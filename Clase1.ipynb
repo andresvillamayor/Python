{
  "nbformat": 4,
  "nbformat_minor": 0,
  "metadata": {
    "colab": {
      "provenance": [],
      "authorship_tag": "ABX9TyNxgF0I4tbm67XPho2Iz1aq",
      "include_colab_link": true
    },
    "kernelspec": {
      "name": "python3",
      "display_name": "Python 3"
    },
    "language_info": {
      "name": "python"
    }
  },
  "cells": [
    {
      "cell_type": "markdown",
      "metadata": {
        "id": "view-in-github",
        "colab_type": "text"
      },
      "source": [
        "<a href=\"https://colab.research.google.com/github/andresvillamayor/Python/blob/main/Clase1.ipynb\" target=\"_parent\"><img src=\"https://colab.research.google.com/assets/colab-badge.svg\" alt=\"Open In Colab\"/></a>"
      ]
    },
    {
      "cell_type": "markdown",
      "source": [
        "Tipo de Variables en Python para Data Science"
      ],
      "metadata": {
        "id": "hqOnq2qLCaml"
      }
    },
    {
      "cell_type": "code",
      "execution_count": 2,
      "metadata": {
        "id": "1wZvv8FICLWu"
      },
      "outputs": [],
      "source": [
        "# tipo de variables para python\n",
        "# creando una variable Integer\n",
        "x =  2"
      ]
    },
    {
      "cell_type": "code",
      "source": [
        "# vemos el valor de x\n",
        "x"
      ],
      "metadata": {
        "id": "aCmBfHq5C8E-",
        "outputId": "369f3a5a-5710-45fd-a7ff-b1e966802d3e",
        "colab": {
          "base_uri": "https://localhost:8080/"
        }
      },
      "execution_count": 4,
      "outputs": [
        {
          "output_type": "execute_result",
          "data": {
            "text/plain": [
              "2"
            ]
          },
          "metadata": {},
          "execution_count": 4
        }
      ]
    },
    {
      "cell_type": "code",
      "source": [
        "# como saber el tipo de datos de la variable x\n",
        "type(x)"
      ],
      "metadata": {
        "id": "9OGnIIGnC7Zl",
        "outputId": "dbb3250b-0f86-45e5-b089-ef5608a6546e",
        "colab": {
          "base_uri": "https://localhost:8080/"
        }
      },
      "execution_count": 5,
      "outputs": [
        {
          "output_type": "execute_result",
          "data": {
            "text/plain": [
              "int"
            ]
          },
          "metadata": {},
          "execution_count": 5
        }
      ]
    },
    {
      "cell_type": "code",
      "source": [
        "# tipo de variable Float / Punto Decimal\n",
        "y = 2.5"
      ],
      "metadata": {
        "id": "0ZdQW77lDpM3"
      },
      "execution_count": 6,
      "outputs": []
    },
    {
      "cell_type": "code",
      "source": [
        "# vemos el valor de y\n",
        "y"
      ],
      "metadata": {
        "id": "Cf2jPdHTD19A",
        "outputId": "0b737ca5-0eb9-4d78-adb2-ee9c0bcae1e4",
        "colab": {
          "base_uri": "https://localhost:8080/"
        }
      },
      "execution_count": 7,
      "outputs": [
        {
          "output_type": "execute_result",
          "data": {
            "text/plain": [
              "2.5"
            ]
          },
          "metadata": {},
          "execution_count": 7
        }
      ]
    },
    {
      "cell_type": "code",
      "source": [
        "# como saber el tipo de datos de las variable y\n",
        "type(y)"
      ],
      "metadata": {
        "id": "yDtFRUW6D43A",
        "outputId": "a0795306-8034-411a-df3c-a5a377346ec5",
        "colab": {
          "base_uri": "https://localhost:8080/"
        }
      },
      "execution_count": 8,
      "outputs": [
        {
          "output_type": "execute_result",
          "data": {
            "text/plain": [
              "float"
            ]
          },
          "metadata": {},
          "execution_count": 8
        }
      ]
    },
    {
      "cell_type": "code",
      "source": [
        "# tipo de variable Sting / Cadena de Texto /str\n",
        "a = 'hola'"
      ],
      "metadata": {
        "id": "B9gYceCFEOaK"
      },
      "execution_count": 9,
      "outputs": []
    },
    {
      "cell_type": "code",
      "source": [
        "a"
      ],
      "metadata": {
        "id": "b9ONrQmfID8D",
        "outputId": "7f3b7b14-d5c7-4bf9-bea4-900df2b1cc67",
        "colab": {
          "base_uri": "https://localhost:8080/",
          "height": 35
        }
      },
      "execution_count": 10,
      "outputs": [
        {
          "output_type": "execute_result",
          "data": {
            "text/plain": [
              "'hola'"
            ],
            "application/vnd.google.colaboratory.intrinsic+json": {
              "type": "string"
            }
          },
          "metadata": {},
          "execution_count": 10
        }
      ]
    },
    {
      "cell_type": "code",
      "source": [
        "type(a)"
      ],
      "metadata": {
        "id": "gsD81d2yIGW-",
        "outputId": "8a956440-b5ba-430a-8d25-67a8de92d94f",
        "colab": {
          "base_uri": "https://localhost:8080/"
        }
      },
      "execution_count": 11,
      "outputs": [
        {
          "output_type": "execute_result",
          "data": {
            "text/plain": [
              "str"
            ]
          },
          "metadata": {},
          "execution_count": 11
        }
      ]
    }
  ]
}