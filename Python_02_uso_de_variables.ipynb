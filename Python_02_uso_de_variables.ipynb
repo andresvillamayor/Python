{
  "nbformat": 4,
  "nbformat_minor": 0,
  "metadata": {
    "colab": {
      "provenance": [],
      "authorship_tag": "ABX9TyO0ip6ZXmCzycSjMNEWE0K8",
      "include_colab_link": true
    },
    "kernelspec": {
      "name": "python3",
      "display_name": "Python 3"
    },
    "language_info": {
      "name": "python"
    }
  },
  "cells": [
    {
      "cell_type": "markdown",
      "metadata": {
        "id": "view-in-github",
        "colab_type": "text"
      },
      "source": [
        "<a href=\"https://colab.research.google.com/github/andresvillamayor/Python/blob/main/Python_02_uso_de_variables.ipynb\" target=\"_parent\"><img src=\"https://colab.research.google.com/assets/colab-badge.svg\" alt=\"Open In Colab\"/></a>"
      ]
    },
    {
      "cell_type": "markdown",
      "source": [
        "## Uso de Variables"
      ],
      "metadata": {
        "id": "BFxPnbuIe9J1"
      }
    },
    {
      "cell_type": "code",
      "source": [
        "# Asignamos el valor 10 a la Variable A\n",
        "A = 10"
      ],
      "metadata": {
        "id": "TbLKaHm6fCDR"
      },
      "execution_count": 2,
      "outputs": []
    },
    {
      "cell_type": "code",
      "source": [
        "# Asignamos el valor 5 a la Variable B\n",
        "B = 5"
      ],
      "metadata": {
        "id": "On3TD2ImfNFd"
      },
      "execution_count": 3,
      "outputs": []
    },
    {
      "cell_type": "code",
      "source": [
        "# Aritmetica\n",
        "C = A + B  # Siendo que las dos variables A y B son int el C es Int\n",
        "C"
      ],
      "metadata": {
        "colab": {
          "base_uri": "https://localhost:8080/"
        },
        "id": "L8pi6P1ZhFFm",
        "outputId": "ecc0d1cd-71a3-4ee4-a403-902cb254f0e7"
      },
      "execution_count": 4,
      "outputs": [
        {
          "output_type": "execute_result",
          "data": {
            "text/plain": [
              "15"
            ]
          },
          "metadata": {},
          "execution_count": 4
        }
      ]
    },
    {
      "cell_type": "code",
      "source": [
        "# Viendo el tipo de datos de C\n",
        "type (C)"
      ],
      "metadata": {
        "colab": {
          "base_uri": "https://localhost:8080/"
        },
        "id": "M2LG403ahXuM",
        "outputId": "679e99de-92a9-4969-8f51-ee1ea61c12a7"
      },
      "execution_count": 5,
      "outputs": [
        {
          "output_type": "execute_result",
          "data": {
            "text/plain": [
              "int"
            ]
          },
          "metadata": {},
          "execution_count": 5
        }
      ]
    },
    {
      "cell_type": "code",
      "source": [
        "# Para la impresion del valor de la suma de A y B\n",
        "print ('El valor de C = ', c) # aca se da un error por que esta escrito como minuscula - cuidado"
      ],
      "metadata": {
        "colab": {
          "base_uri": "https://localhost:8080/",
          "height": 193
        },
        "id": "2CkhtIh_i4lc",
        "outputId": "8ed7c2b4-313f-44b7-b942-6a8e87c35599"
      },
      "execution_count": 6,
      "outputs": [
        {
          "output_type": "error",
          "ename": "NameError",
          "evalue": "ignored",
          "traceback": [
            "\u001b[0;31m---------------------------------------------------------------------------\u001b[0m",
            "\u001b[0;31mNameError\u001b[0m                                 Traceback (most recent call last)",
            "\u001b[0;32m<ipython-input-6-c5984ce19bd4>\u001b[0m in \u001b[0;36m<cell line: 2>\u001b[0;34m()\u001b[0m\n\u001b[1;32m      1\u001b[0m \u001b[0;31m# Para la impresion del valor de la suma de A y B\u001b[0m\u001b[0;34m\u001b[0m\u001b[0;34m\u001b[0m\u001b[0m\n\u001b[0;32m----> 2\u001b[0;31m \u001b[0mprint\u001b[0m \u001b[0;34m(\u001b[0m\u001b[0;34m'El valor de C = '\u001b[0m\u001b[0;34m,\u001b[0m \u001b[0mc\u001b[0m\u001b[0;34m)\u001b[0m\u001b[0;34m\u001b[0m\u001b[0;34m\u001b[0m\u001b[0m\n\u001b[0m",
            "\u001b[0;31mNameError\u001b[0m: name 'c' is not defined"
          ]
        }
      ]
    },
    {
      "cell_type": "code",
      "source": [
        "# Para ser mas correcto\n",
        "print (f' El valor de C = {C}') # esto seria lo correcto en la impresion"
      ],
      "metadata": {
        "colab": {
          "base_uri": "https://localhost:8080/"
        },
        "id": "b6FgHQXZtTVW",
        "outputId": "12c66af4-9c1e-4c0d-8eb0-fda59ea4e60b"
      },
      "execution_count": 7,
      "outputs": [
        {
          "output_type": "stream",
          "name": "stdout",
          "text": [
            " El valor de C = 15\n"
          ]
        }
      ]
    },
    {
      "cell_type": "code",
      "source": [
        "# Para generar una division de numero\n",
        "D = B / A  # Division de las variables de B dividido A\n",
        "D # muestra el valor de D"
      ],
      "metadata": {
        "colab": {
          "base_uri": "https://localhost:8080/"
        },
        "id": "2Ns3A5CltwOa",
        "outputId": "1cd45ee5-6d9a-4bb3-d0fb-ba2decb4ea0e"
      },
      "execution_count": 8,
      "outputs": [
        {
          "output_type": "execute_result",
          "data": {
            "text/plain": [
              "0.5"
            ]
          },
          "metadata": {},
          "execution_count": 8
        }
      ]
    },
    {
      "cell_type": "code",
      "source": [
        "# Impresion de la Variable y el tipo de variable\n",
        "print (f'El valor de D = {D}')\n",
        "print (f'El tipo de dato de D = {type(D)}')"
      ],
      "metadata": {
        "colab": {
          "base_uri": "https://localhost:8080/"
        },
        "id": "Wk2nfLcbuIo0",
        "outputId": "a34ce3f8-4cf8-434c-b659-0e9ba367ca3a"
      },
      "execution_count": 9,
      "outputs": [
        {
          "output_type": "stream",
          "name": "stdout",
          "text": [
            "El valor de D =0.5\n",
            "El tipo de dato de D = <class 'float'>\n"
          ]
        }
      ]
    },
    {
      "cell_type": "markdown",
      "source": [
        "---"
      ],
      "metadata": {
        "id": "OMPKlGQWvwVJ"
      }
    },
    {
      "cell_type": "code",
      "source": [
        "import math # importamos el modulo math"
      ],
      "metadata": {
        "id": "izK1aJuJvxwQ"
      },
      "execution_count": 10,
      "outputs": []
    },
    {
      "cell_type": "code",
      "source": [
        "# utilizamos la raiz cuadrada\n",
        "math.sqrt(144)"
      ],
      "metadata": {
        "colab": {
          "base_uri": "https://localhost:8080/"
        },
        "id": "eST_8QTAv57h",
        "outputId": "94761f7e-0642-4795-de65-ac593af6e83b"
      },
      "execution_count": 11,
      "outputs": [
        {
          "output_type": "execute_result",
          "data": {
            "text/plain": [
              "12.0"
            ]
          },
          "metadata": {},
          "execution_count": 11
        }
      ]
    },
    {
      "cell_type": "code",
      "source": [
        "# como se ve el valor de la raiz cuadrada viene con .0 o sea dicmal\n",
        "valor = math.sqrt(144)\n",
        "print(f'El valor de la raiz es = {valor}')\n",
        "print(f'El tipo de dato de valor es = {type(valor)}')"
      ],
      "metadata": {
        "colab": {
          "base_uri": "https://localhost:8080/"
        },
        "id": "HnGDaKTMwQoT",
        "outputId": "575d6f6b-fe1a-45d0-fcba-32c15eb3152d"
      },
      "execution_count": 12,
      "outputs": [
        {
          "output_type": "stream",
          "name": "stdout",
          "text": [
            "El valor de la raiz es = 12.0\n",
            "El tipo de dato de valor es = <class 'float'>\n"
          ]
        }
      ]
    },
    {
      "cell_type": "code",
      "source": [
        "# Si vemos con el redondeo podemos sacar el .0\n",
        "# Esto hace que el valor final no se un float , sino que cambie a un int\n",
        "valor_2 = round(math.sqrt(144))\n",
        "print (f'El valor de la raiz es = {valor_2}')\n",
        "print (f'El tipo de dato es = {type(valor_2)}')"
      ],
      "metadata": {
        "colab": {
          "base_uri": "https://localhost:8080/"
        },
        "id": "_qJn4u3zw52G",
        "outputId": "b13a375f-e8ec-4a5e-bed7-c650291fe4cd"
      },
      "execution_count": 13,
      "outputs": [
        {
          "output_type": "stream",
          "name": "stdout",
          "text": [
            "El valor de la raiz es = 12\n",
            "El tipo de dato es = <class 'int'>\n"
          ]
        }
      ]
    },
    {
      "cell_type": "code",
      "source": [
        "# Trabajando con variables string o cadena de texto\n",
        "saludo = 'Hola'\n",
        "nombre = 'Pedro'"
      ],
      "metadata": {
        "id": "UXLFD8MGx7R1"
      },
      "execution_count": 14,
      "outputs": []
    },
    {
      "cell_type": "code",
      "source": [
        "# Imprimir el un mensaje con las variables saludo y nombre\n",
        "mensaje =  saludo + nombre\n",
        "mensaje  # se coloca el nombre de la variable que contiene el saludo + nombre"
      ],
      "metadata": {
        "colab": {
          "base_uri": "https://localhost:8080/",
          "height": 35
        },
        "id": "SrHl3KxAykAb",
        "outputId": "b0931831-1001-4906-f01b-2c69e036a980"
      },
      "execution_count": 15,
      "outputs": [
        {
          "output_type": "execute_result",
          "data": {
            "text/plain": [
              "'HolaPedro'"
            ],
            "application/vnd.google.colaboratory.intrinsic+json": {
              "type": "string"
            }
          },
          "metadata": {},
          "execution_count": 15
        }
      ]
    },
    {
      "cell_type": "code",
      "source": [
        "mensaje = saludo + ' ' + nombre\n",
        "mensaje  # en este mensaje se coloca un espacio en blanco entre las variables para que tenga separacion y salga mejor el saludo"
      ],
      "metadata": {
        "colab": {
          "base_uri": "https://localhost:8080/",
          "height": 35
        },
        "id": "0-uHj6A0zwma",
        "outputId": "5670c190-bd07-4e56-b8ac-a105f65669db"
      },
      "execution_count": 16,
      "outputs": [
        {
          "output_type": "execute_result",
          "data": {
            "text/plain": [
              "'Hola Pedro'"
            ],
            "application/vnd.google.colaboratory.intrinsic+json": {
              "type": "string"
            }
          },
          "metadata": {},
          "execution_count": 16
        }
      ]
    }
  ]
}