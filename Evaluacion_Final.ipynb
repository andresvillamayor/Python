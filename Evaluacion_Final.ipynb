{
 "cells": [
  {
   "cell_type": "markdown",
   "id": "35686804",
   "metadata": {},
   "source": [
    "Evaluacion Final de Python "
   ]
  },
  {
   "cell_type": "markdown",
   "id": "d63e8cfc",
   "metadata": {},
   "source": [
    "Librerias"
   ]
  },
  {
   "cell_type": "code",
   "execution_count": 18,
   "id": "02464860",
   "metadata": {},
   "outputs": [],
   "source": [
    "import pandas as pd "
   ]
  },
  {
   "cell_type": "markdown",
   "id": "656fb2f3",
   "metadata": {},
   "source": [
    "Creando los Dataframe "
   ]
  },
  {
   "cell_type": "code",
   "execution_count": 19,
   "id": "8305aa2a",
   "metadata": {},
   "outputs": [
    {
     "name": "stdout",
     "output_type": "stream",
     "text": [
      "         pizza_id pizza_type_id size  price\n",
      "0       bbq_ckn_s       bbq_ckn    S  12.75\n",
      "1       bbq_ckn_m       bbq_ckn    M  16.75\n",
      "2       bbq_ckn_l       bbq_ckn    L  20.75\n",
      "3      cali_ckn_s      cali_ckn    S  12.75\n",
      "4      cali_ckn_m      cali_ckn    M  16.75\n",
      "..            ...           ...  ...    ...\n",
      "91  spinach_fet_m   spinach_fet    M  16.00\n",
      "92  spinach_fet_l   spinach_fet    L  20.25\n",
      "93   veggie_veg_s    veggie_veg    S  12.00\n",
      "94   veggie_veg_m    veggie_veg    M  16.00\n",
      "95   veggie_veg_l    veggie_veg    L  20.25\n",
      "\n",
      "[96 rows x 4 columns]\n"
     ]
    }
   ],
   "source": [
    "df_pizza = pd.read_csv('pizzas.csv',sep =',')\n",
    "print (df_pizza)"
   ]
  },
  {
   "cell_type": "code",
   "execution_count": 20,
   "id": "9c667d42",
   "metadata": {},
   "outputs": [
    {
     "name": "stdout",
     "output_type": "stream",
     "text": [
      "       order_details_id  order_id       pizza_id  quantity\n",
      "0                     1         1     hawaiian_m         1\n",
      "1                     2         2  classic_dlx_m         1\n",
      "2                     3         2  five_cheese_l         1\n",
      "3                     4         2    ital_supr_l         1\n",
      "4                     5         2     mexicana_m         1\n",
      "...                 ...       ...            ...       ...\n",
      "48615             48616     21348  ckn_alfredo_m         1\n",
      "48616             48617     21348  four_cheese_l         1\n",
      "48617             48618     21348   napolitana_s         1\n",
      "48618             48619     21349     mexicana_l         1\n",
      "48619             48620     21350      bbq_ckn_s         1\n",
      "\n",
      "[48620 rows x 4 columns]\n"
     ]
    }
   ],
   "source": [
    "df_order_det = pd.read_csv('order_details.csv',sep =',')\n",
    "print (df_order_det)"
   ]
  },
  {
   "cell_type": "code",
   "execution_count": 21,
   "id": "0cc1b2cc",
   "metadata": {},
   "outputs": [
    {
     "name": "stdout",
     "output_type": "stream",
     "text": [
      "       order_id        date      time\n",
      "0             1  2015-01-01  11:38:36\n",
      "1             2  2015-01-01  11:57:40\n",
      "2             3  2015-01-01  12:12:28\n",
      "3             4  2015-01-01  12:16:31\n",
      "4             5  2015-01-01  12:21:30\n",
      "...         ...         ...       ...\n",
      "21345     21346  2015-12-31  20:51:07\n",
      "21346     21347  2015-12-31  21:14:37\n",
      "21347     21348  2015-12-31  21:23:10\n",
      "21348     21349  2015-12-31  22:09:54\n",
      "21349     21350  2015-12-31  23:02:05\n",
      "\n",
      "[21350 rows x 3 columns]\n"
     ]
    }
   ],
   "source": [
    "df_orders = pd.read_csv('orders.csv',sep =',')\n",
    "print (df_orders)"
   ]
  },
  {
   "cell_type": "code",
   "execution_count": 33,
   "id": "8fa6235d",
   "metadata": {},
   "outputs": [
    {
     "name": "stdout",
     "output_type": "stream",
     "text": [
      "   pizza_type_id                                        name category  \\\n",
      "0        bbq_ckn                  The Barbecue Chicken Pizza  Chicken   \n",
      "1       cali_ckn                The California Chicken Pizza  Chicken   \n",
      "2    ckn_alfredo                   The Chicken Alfredo Pizza  Chicken   \n",
      "3      ckn_pesto                     The Chicken Pesto Pizza  Chicken   \n",
      "4     southw_ckn                 The Southwest Chicken Pizza  Chicken   \n",
      "5       thai_ckn                      The Thai Chicken Pizza  Chicken   \n",
      "6       big_meat                          The Big Meat Pizza  Classic   \n",
      "7    classic_dlx                    The Classic Deluxe Pizza  Classic   \n",
      "8       hawaiian                          The Hawaiian Pizza  Classic   \n",
      "9    ital_cpcllo                 The Italian Capocollo Pizza  Classic   \n",
      "10    napolitana                        The Napolitana Pizza  Classic   \n",
      "11   pep_msh_pep  The Pepperoni, Mushroom, and Peppers Pizza  Classic   \n",
      "12     pepperoni                         The Pepperoni Pizza  Classic   \n",
      "13     the_greek                             The Greek Pizza  Classic   \n",
      "14    brie_carre                        The Brie Carre Pizza  Supreme   \n",
      "15     calabrese                         The Calabrese Pizza  Supreme   \n",
      "16     ital_supr                   The Italian Supreme Pizza  Supreme   \n",
      "17  peppr_salami                     The Pepper Salami Pizza  Supreme   \n",
      "18    prsc_argla            The Prosciutto and Arugula Pizza  Supreme   \n",
      "19      sicilian                          The Sicilian Pizza  Supreme   \n",
      "20   soppressata                       The Soppressata Pizza  Supreme   \n",
      "21    spicy_ital                     The Spicy Italian Pizza  Supreme   \n",
      "22  spinach_supr                   The Spinach Supreme Pizza  Supreme   \n",
      "23   five_cheese                       The Five Cheese Pizza   Veggie   \n",
      "24   four_cheese                       The Four Cheese Pizza   Veggie   \n",
      "25  green_garden                      The Green Garden Pizza   Veggie   \n",
      "26   ital_veggie                The Italian Vegetables Pizza   Veggie   \n",
      "27  mediterraneo                     The Mediterranean Pizza   Veggie   \n",
      "28      mexicana                          The Mexicana Pizza   Veggie   \n",
      "29    spin_pesto                     The Spinach Pesto Pizza   Veggie   \n",
      "30   spinach_fet                  The Spinach and Feta Pizza   Veggie   \n",
      "31    veggie_veg           The Vegetables + Vegetables Pizza   Veggie   \n",
      "\n",
      "                                          ingredients  \n",
      "0   Barbecued Chicken, Red Peppers, Green Peppers,...  \n",
      "1   Chicken, Artichoke, Spinach, Garlic, Jalapeno ...  \n",
      "2   Chicken, Red Onions, Red Peppers, Mushrooms, A...  \n",
      "3   Chicken, Tomatoes, Red Peppers, Spinach, Garli...  \n",
      "4   Chicken, Tomatoes, Red Peppers, Red Onions, Ja...  \n",
      "5   Chicken, Pineapple, Tomatoes, Red Peppers, Tha...  \n",
      "6   Bacon, Pepperoni, Italian Sausage, Chorizo Sau...  \n",
      "7   Pepperoni, Mushrooms, Red Onions, Red Peppers,...  \n",
      "8            Sliced Ham, Pineapple, Mozzarella Cheese  \n",
      "9   Capocollo, Red Peppers, Tomatoes, Goat Cheese,...  \n",
      "10  Tomatoes, Anchovies, Green Olives, Red Onions,...  \n",
      "11                Pepperoni, Mushrooms, Green Peppers  \n",
      "12                       Mozzarella Cheese, Pepperoni  \n",
      "13  Kalamata Olives, Feta Cheese, Tomatoes, Garlic...  \n",
      "14  Brie Carre Cheese, Prosciutto, Caramelized Oni...  \n",
      "15  Nduja Salami, Pancetta, Tomatoes, Red Onions, ...  \n",
      "16  Calabrese Salami, Capocollo, Tomatoes, Red Oni...  \n",
      "17  Genoa Salami, Capocollo, Pepperoni, Tomatoes, ...  \n",
      "18  Prosciutto di San Daniele, Arugula, Mozzarella...  \n",
      "19  Coarse Sicilian Salami, Tomatoes, Green Olives...  \n",
      "20  Soppressata Salami, Fontina Cheese, Mozzarella...  \n",
      "21  Capocollo, Tomatoes, Goat Cheese, Artichokes, ...  \n",
      "22  Spinach, Red Onions, Pepperoni, Tomatoes, Arti...  \n",
      "23  Mozzarella Cheese, Provolone Cheese, Smoked Go...  \n",
      "24  Ricotta Cheese, Gorgonzola Piccante Cheese, Mo...  \n",
      "25  Spinach, Mushrooms, Tomatoes, Green Olives, Fe...  \n",
      "26  Eggplant, Artichokes, Tomatoes, Zucchini, Red ...  \n",
      "27  Spinach, Artichokes, Kalamata Olives, Sun-drie...  \n",
      "28  Tomatoes, Red Peppers, Jalapeno Peppers, Red O...  \n",
      "29  Spinach, Artichokes, Tomatoes, Sun-dried Tomat...  \n",
      "30  Spinach, Mushrooms, Red Onions, Feta Cheese, G...  \n",
      "31  Mushrooms, Tomatoes, Red Peppers, Green Pepper...  \n"
     ]
    }
   ],
   "source": [
    "df_pizza_types = pd.read_csv('pizza_types.csv',sep=';',encoding='unicode_escape')\n",
    "print (df_pizza_types)"
   ]
  },
  {
   "cell_type": "code",
   "execution_count": null,
   "id": "56ba2ded",
   "metadata": {},
   "outputs": [],
   "source": []
  },
  {
   "cell_type": "code",
   "execution_count": null,
   "id": "fac06c72",
   "metadata": {},
   "outputs": [],
   "source": []
  },
  {
   "cell_type": "code",
   "execution_count": null,
   "id": "311eb47f",
   "metadata": {},
   "outputs": [],
   "source": []
  }
 ],
 "metadata": {
  "kernelspec": {
   "display_name": "Python 3 (ipykernel)",
   "language": "python",
   "name": "python3"
  },
  "language_info": {
   "codemirror_mode": {
    "name": "ipython",
    "version": 3
   },
   "file_extension": ".py",
   "mimetype": "text/x-python",
   "name": "python",
   "nbconvert_exporter": "python",
   "pygments_lexer": "ipython3",
   "version": "3.9.12"
  }
 },
 "nbformat": 4,
 "nbformat_minor": 5
}
