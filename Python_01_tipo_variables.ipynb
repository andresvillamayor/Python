{
  "nbformat": 4,
  "nbformat_minor": 0,
  "metadata": {
    "colab": {
      "provenance": [],
      "authorship_tag": "ABX9TyOqdGop/liMB9XGIbWscJKH",
      "include_colab_link": true
    },
    "kernelspec": {
      "name": "python3",
      "display_name": "Python 3"
    },
    "language_info": {
      "name": "python"
    }
  },
  "cells": [
    {
      "cell_type": "markdown",
      "metadata": {
        "id": "view-in-github",
        "colab_type": "text"
      },
      "source": [
        "<a href=\"https://colab.research.google.com/github/andresvillamayor/Python/blob/main/Python_01_tipo_variables.ipynb\" target=\"_parent\"><img src=\"https://colab.research.google.com/assets/colab-badge.svg\" alt=\"Open In Colab\"/></a>"
      ]
    },
    {
      "cell_type": "markdown",
      "source": [
        "# Python con Google Colab\n",
        "## Tipos de Variables"
      ],
      "metadata": {
        "id": "5jGFnTo9WQZu"
      }
    },
    {
      "cell_type": "code",
      "execution_count": 1,
      "metadata": {
        "id": "gsZtGflbWL-R"
      },
      "outputs": [],
      "source": [
        "# El primer tipo de variable a ver es la variable integer o int\n",
        "x = 2  # Asigancion del valor 2 a X"
      ]
    },
    {
      "cell_type": "code",
      "source": [
        "# Impresion de la variable\n",
        "x"
      ],
      "metadata": {
        "colab": {
          "base_uri": "https://localhost:8080/"
        },
        "id": "ry0vuSM3W8WD",
        "outputId": "cd4d0460-3de9-4580-c79a-236db807bcee"
      },
      "execution_count": 2,
      "outputs": [
        {
          "output_type": "execute_result",
          "data": {
            "text/plain": [
              "2"
            ]
          },
          "metadata": {},
          "execution_count": 2
        }
      ]
    },
    {
      "cell_type": "code",
      "source": [
        "# Tipo de variable\n",
        "type(x)"
      ],
      "metadata": {
        "colab": {
          "base_uri": "https://localhost:8080/"
        },
        "id": "jLVPiUQxW_7n",
        "outputId": "0f88d5e9-bb39-4477-f8f2-cce249b7ebb6"
      },
      "execution_count": 3,
      "outputs": [
        {
          "output_type": "execute_result",
          "data": {
            "text/plain": [
              "int"
            ]
          },
          "metadata": {},
          "execution_count": 3
        }
      ]
    },
    {
      "cell_type": "code",
      "source": [
        "# Impresion de la variable int\n",
        "print(f'El valor de la variable x = {x}')"
      ],
      "metadata": {
        "colab": {
          "base_uri": "https://localhost:8080/"
        },
        "id": "4kcQOnnfXGu9",
        "outputId": "b35e7ac4-3964-4629-85e2-ade2575fe5c7"
      },
      "execution_count": 4,
      "outputs": [
        {
          "output_type": "stream",
          "name": "stdout",
          "text": [
            "El valor de la variable x = 2\n"
          ]
        }
      ]
    },
    {
      "cell_type": "markdown",
      "source": [
        "---"
      ],
      "metadata": {
        "id": "lk4zWwyRXcga"
      }
    },
    {
      "cell_type": "code",
      "source": [
        "# El segundo tipo de variable a ver es la variable float o número flotante\n",
        "y = 2.5 # asignacion de y a 2.5 numero flotante o float"
      ],
      "metadata": {
        "id": "lj2NXe9aXdxX"
      },
      "execution_count": 5,
      "outputs": []
    },
    {
      "cell_type": "code",
      "source": [
        "# Impresion de la variable\n",
        "y"
      ],
      "metadata": {
        "colab": {
          "base_uri": "https://localhost:8080/"
        },
        "id": "yP6VOpsoYU8q",
        "outputId": "35340933-e50a-48b5-cc5c-248a802e3d6b"
      },
      "execution_count": 6,
      "outputs": [
        {
          "output_type": "execute_result",
          "data": {
            "text/plain": [
              "2.5"
            ]
          },
          "metadata": {},
          "execution_count": 6
        }
      ]
    },
    {
      "cell_type": "code",
      "source": [
        "# Tipo de Variable\n",
        "type (y)"
      ],
      "metadata": {
        "colab": {
          "base_uri": "https://localhost:8080/"
        },
        "id": "hiMY3SP0Yb2K",
        "outputId": "111a650a-5c56-4f2c-f3b6-14ff7fda1d17"
      },
      "execution_count": 7,
      "outputs": [
        {
          "output_type": "execute_result",
          "data": {
            "text/plain": [
              "float"
            ]
          },
          "metadata": {},
          "execution_count": 7
        }
      ]
    },
    {
      "cell_type": "code",
      "source": [
        "# Impresion de la variable float\n",
        "print(f'El valor de la variable y = {y}')\n",
        "print(f'El tipo de variable es {type(y)}')"
      ],
      "metadata": {
        "colab": {
          "base_uri": "https://localhost:8080/"
        },
        "id": "YWPUBP_AYkJQ",
        "outputId": "e829e430-9a1a-402e-a7f3-337e2c114904"
      },
      "execution_count": 8,
      "outputs": [
        {
          "output_type": "stream",
          "name": "stdout",
          "text": [
            "El valor de la variable y = 2.5\n",
            "El tipo de variable es <class 'float'>\n"
          ]
        }
      ]
    },
    {
      "cell_type": "markdown",
      "source": [
        "---"
      ],
      "metadata": {
        "id": "1-Fz0NzGZdVs"
      }
    },
    {
      "cell_type": "code",
      "source": [
        "# El tercer tipo de variable tipo de variable String o Cadena de Texto\n",
        "a = 'Hola' # Asignamos el valor Hola , nos damos cuenta de que es una cadena de string por las comillas, pueden ser simples o dobles"
      ],
      "metadata": {
        "id": "m8C0AhuIZfHL"
      },
      "execution_count": 9,
      "outputs": []
    },
    {
      "cell_type": "code",
      "source": [
        "# Impirmir la variable\n",
        "a"
      ],
      "metadata": {
        "colab": {
          "base_uri": "https://localhost:8080/",
          "height": 35
        },
        "id": "LGEW1ZJZafh9",
        "outputId": "056a1eeb-ad47-469b-d21c-94e797143377"
      },
      "execution_count": 10,
      "outputs": [
        {
          "output_type": "execute_result",
          "data": {
            "text/plain": [
              "'Hola'"
            ],
            "application/vnd.google.colaboratory.intrinsic+json": {
              "type": "string"
            }
          },
          "metadata": {},
          "execution_count": 10
        }
      ]
    },
    {
      "cell_type": "code",
      "source": [
        "# Tipo de variable\n",
        "type(a) # imprime el tipo de varible"
      ],
      "metadata": {
        "colab": {
          "base_uri": "https://localhost:8080/"
        },
        "id": "Na2kpIjWaj16",
        "outputId": "aeb3d89d-00f8-4e9f-8cdd-a39844e9d546"
      },
      "execution_count": 11,
      "outputs": [
        {
          "output_type": "execute_result",
          "data": {
            "text/plain": [
              "str"
            ]
          },
          "metadata": {},
          "execution_count": 11
        }
      ]
    },
    {
      "cell_type": "code",
      "source": [
        "# Imprimimos el tipo de variable\n",
        "print(f'El valor de la variable a = {a}')\n",
        "print(f'El tipo de variable a es = {type(a)}')"
      ],
      "metadata": {
        "colab": {
          "base_uri": "https://localhost:8080/"
        },
        "id": "jel0Xr69c0ed",
        "outputId": "a9cb5c75-213a-488e-e267-96def4080f6e"
      },
      "execution_count": 12,
      "outputs": [
        {
          "output_type": "stream",
          "name": "stdout",
          "text": [
            "El valor de la variable a = Hola\n",
            "El tipo de variable a es = <class 'str'>\n"
          ]
        }
      ]
    },
    {
      "cell_type": "markdown",
      "source": [
        "---"
      ],
      "metadata": {
        "id": "ojai379IdZbc"
      }
    },
    {
      "cell_type": "code",
      "source": [
        "# El cuarto tipo de variable es Boolean - True o False\n",
        "p1 = True # se asigna el valor True a p1"
      ],
      "metadata": {
        "id": "WdcBUTVfdcv2"
      },
      "execution_count": 13,
      "outputs": []
    },
    {
      "cell_type": "code",
      "source": [
        "# Imprime la variable\n",
        "p1"
      ],
      "metadata": {
        "colab": {
          "base_uri": "https://localhost:8080/"
        },
        "id": "VJUX0bV-duOz",
        "outputId": "21c2d0d8-fad7-44dc-8967-3ebfc795e48b"
      },
      "execution_count": 14,
      "outputs": [
        {
          "output_type": "execute_result",
          "data": {
            "text/plain": [
              "True"
            ]
          },
          "metadata": {},
          "execution_count": 14
        }
      ]
    },
    {
      "cell_type": "code",
      "source": [
        "# Tipo de variable\n",
        "type (p1)"
      ],
      "metadata": {
        "colab": {
          "base_uri": "https://localhost:8080/"
        },
        "id": "adkOCJPXdwUo",
        "outputId": "6d87b8ff-219c-4c7c-d12d-cdf2ae46d026"
      },
      "execution_count": 15,
      "outputs": [
        {
          "output_type": "execute_result",
          "data": {
            "text/plain": [
              "bool"
            ]
          },
          "metadata": {},
          "execution_count": 15
        }
      ]
    },
    {
      "cell_type": "code",
      "source": [
        "# Imprimimos los valores\n",
        "print(f'El valor de la variable p1 = {p1}')\n",
        "print(f'El tipo de variable de p1 es = {type(p1)}')"
      ],
      "metadata": {
        "colab": {
          "base_uri": "https://localhost:8080/"
        },
        "id": "GXSERoSmeB5U",
        "outputId": "d8629cff-b023-4507-ae15-0f59bef12f48"
      },
      "execution_count": 16,
      "outputs": [
        {
          "output_type": "stream",
          "name": "stdout",
          "text": [
            "El valor de la variable p1 = True\n",
            "El tipo de variable de p1 es = <class 'bool'>\n"
          ]
        }
      ]
    }
  ]
}