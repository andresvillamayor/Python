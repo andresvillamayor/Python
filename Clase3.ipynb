{
  "nbformat": 4,
  "nbformat_minor": 0,
  "metadata": {
    "colab": {
      "provenance": [],
      "authorship_tag": "ABX9TyPgW/vLg1WVDVumbjQmZ0cv",
      "include_colab_link": true
    },
    "kernelspec": {
      "name": "python3",
      "display_name": "Python 3"
    },
    "language_info": {
      "name": "python"
    }
  },
  "cells": [
    {
      "cell_type": "markdown",
      "metadata": {
        "id": "view-in-github",
        "colab_type": "text"
      },
      "source": [
        "<a href=\"https://colab.research.google.com/github/andresvillamayor/Python/blob/main/Clase3.ipynb\" target=\"_parent\"><img src=\"https://colab.research.google.com/assets/colab-badge.svg\" alt=\"Open In Colab\"/></a>"
      ]
    },
    {
      "cell_type": "code",
      "execution_count": 2,
      "metadata": {
        "id": "ckmbjYCtmoSb"
      },
      "outputs": [],
      "source": [
        "# Trabajando con operadores y variables booleanas o logicas\n",
        "# True\n",
        "# False  ( son los valores posible de una variable booleana)"
      ]
    },
    {
      "cell_type": "code",
      "source": [
        "# Comparando una variable boolena\n",
        "4 < 5  # preguntamos si 4 es menor a cinco ?  (El valor seria True, por es verdadero)"
      ],
      "metadata": {
        "colab": {
          "base_uri": "https://localhost:8080/"
        },
        "id": "fhaYYM2Dm-wj",
        "outputId": "820b2a6e-2a8d-4afa-cb56-4ade8bbcbdd9"
      },
      "execution_count": 1,
      "outputs": [
        {
          "output_type": "execute_result",
          "data": {
            "text/plain": [
              "True"
            ]
          },
          "metadata": {},
          "execution_count": 1
        }
      ]
    },
    {
      "cell_type": "code",
      "source": [
        "# Hacemos otra consulta\n",
        "10 > 100  # si 10 es mayor a 100 ?  (El valor seria False, porque 10 no es mayor a 100)\n"
      ],
      "metadata": {
        "colab": {
          "base_uri": "https://localhost:8080/"
        },
        "id": "QkIk4QDDnab1",
        "outputId": "e259d1fa-1bdf-4251-f3ee-5de172548aec"
      },
      "execution_count": 3,
      "outputs": [
        {
          "output_type": "execute_result",
          "data": {
            "text/plain": [
              "False"
            ]
          },
          "metadata": {},
          "execution_count": 3
        }
      ]
    },
    {
      "cell_type": "code",
      "source": [
        "# Que pasa si yo hago una comparativa de valores\n",
        "4 == 5  # Aca se ve dos cosas \"==\" es comparar y \"=\" es asignar un valor\n",
        "# Aca comparamos si 4 es igual a 5 ? (El valor seria Falso, porque 4 no es igual a 5 )"
      ],
      "metadata": {
        "colab": {
          "base_uri": "https://localhost:8080/"
        },
        "id": "r5tNEWKCnvGE",
        "outputId": "c4b21e61-9d52-4997-93ce-6aba37a4a39f"
      },
      "execution_count": 4,
      "outputs": [
        {
          "output_type": "execute_result",
          "data": {
            "text/plain": [
              "False"
            ]
          },
          "metadata": {},
          "execution_count": 4
        }
      ]
    },
    {
      "cell_type": "markdown",
      "source": [
        "---\n",
        "Comparadores"
      ],
      "metadata": {
        "id": "X4M89pJnoWOP"
      }
    },
    {
      "cell_type": "code",
      "source": [
        "# == para comparar\n",
        "# =  para asignar\n",
        "# != , <>  es diferente a\n",
        "# > mayor a\n",
        "# < menor a\n",
        "# >= mayor o igual a\n",
        "# <= menor o igual a\n",
        "# and , &   valor \"y\" valor\n",
        "# or        valor \"o\" valor\n",
        "# not       negacion a un valor"
      ],
      "metadata": {
        "id": "O7UHf4AGoVf3"
      },
      "execution_count": null,
      "outputs": []
    },
    {
      "cell_type": "code",
      "source": [
        "# hallar el valor de una variable booleana\n",
        "resultado = 4 < 5\n",
        "resultado"
      ],
      "metadata": {
        "colab": {
          "base_uri": "https://localhost:8080/"
        },
        "id": "JKyTjMsLpf8V",
        "outputId": "06d244c6-2393-4a1f-d19e-d6fab08e3c04"
      },
      "execution_count": 5,
      "outputs": [
        {
          "output_type": "execute_result",
          "data": {
            "text/plain": [
              "True"
            ]
          },
          "metadata": {},
          "execution_count": 5
        }
      ]
    },
    {
      "cell_type": "code",
      "source": [
        "# vemos el tipo de variable \"resultado\"\n",
        "type(resultado)"
      ],
      "metadata": {
        "colab": {
          "base_uri": "https://localhost:8080/"
        },
        "id": "qWzIEfPYps3-",
        "outputId": "b065f7c4-d195-4e47-b7e4-2b95a99b8105"
      },
      "execution_count": 6,
      "outputs": [
        {
          "output_type": "execute_result",
          "data": {
            "text/plain": [
              "bool"
            ]
          },
          "metadata": {},
          "execution_count": 6
        }
      ]
    }
  ]
}